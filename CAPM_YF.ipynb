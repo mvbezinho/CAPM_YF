{
  "nbformat": 4,
  "nbformat_minor": 0,
  "metadata": {
    "colab": {
      "name": "CAPM.ipynb",
      "provenance": [],
      "collapsed_sections": [],
      "toc_visible": true
    },
    "kernelspec": {
      "name": "python3",
      "display_name": "Python 3"
    }
  },
  "cells": [
    {
      "cell_type": "markdown",
      "metadata": {
        "id": "WdH5KsYMJahz"
      },
      "source": [
        "# Importando pacotes"
      ]
    },
    {
      "cell_type": "code",
      "metadata": {
        "id": "wnZdCiM6T3ax"
      },
      "source": [
        "import pandas_datareader.data as reader\r\n",
        "import datetime as dt\r\n",
        "import matplotlib.pyplot as plt\r\n",
        "import statsmodels.api as sm"
      ],
      "execution_count": 3,
      "outputs": []
    },
    {
      "cell_type": "markdown",
      "metadata": {
        "id": "Cb8tw3YkJeqA"
      },
      "source": [
        "# Adquirindo e limpando dados"
      ]
    },
    {
      "cell_type": "code",
      "metadata": {
        "id": "Z64AevtaUTPf"
      },
      "source": [
        "end = dt.datetime.now() # end = dt.date(2020,10,31), para arrumar o problema do tamanho da base de dados\r\n",
        "start = dt.date(end.year - 5, end.month,end.day)\r\n",
        "Input = ['MSFT','^GSPC'] # nome da ação, nome do indice do mercado correspondente"
      ],
      "execution_count": 4,
      "outputs": []
    },
    {
      "cell_type": "code",
      "metadata": {
        "id": "uqckx1sTU4eH"
      },
      "source": [
        "df = reader.get_data_yahoo(Input,start,end)['Adj Close']"
      ],
      "execution_count": 5,
      "outputs": []
    },
    {
      "cell_type": "code",
      "metadata": {
        "colab": {
          "base_uri": "https://localhost:8080/",
          "height": 450
        },
        "id": "UZG7zfS0d3Rb",
        "outputId": "adfd09c5-a8bf-4afc-8444-06fc631cfb38"
      },
      "source": [
        "df"
      ],
      "execution_count": 6,
      "outputs": [
        {
          "output_type": "execute_result",
          "data": {
            "text/html": [
              "<div>\n",
              "<style scoped>\n",
              "    .dataframe tbody tr th:only-of-type {\n",
              "        vertical-align: middle;\n",
              "    }\n",
              "\n",
              "    .dataframe tbody tr th {\n",
              "        vertical-align: top;\n",
              "    }\n",
              "\n",
              "    .dataframe thead th {\n",
              "        text-align: right;\n",
              "    }\n",
              "</style>\n",
              "<table border=\"1\" class=\"dataframe\">\n",
              "  <thead>\n",
              "    <tr style=\"text-align: right;\">\n",
              "      <th>Symbols</th>\n",
              "      <th>MSFT</th>\n",
              "      <th>^GSPC</th>\n",
              "    </tr>\n",
              "    <tr>\n",
              "      <th>Date</th>\n",
              "      <th></th>\n",
              "      <th></th>\n",
              "    </tr>\n",
              "  </thead>\n",
              "  <tbody>\n",
              "    <tr>\n",
              "      <th>2016-01-07</th>\n",
              "      <td>47.606789</td>\n",
              "      <td>1943.089966</td>\n",
              "    </tr>\n",
              "    <tr>\n",
              "      <th>2016-01-08</th>\n",
              "      <td>47.752792</td>\n",
              "      <td>1922.030029</td>\n",
              "    </tr>\n",
              "    <tr>\n",
              "      <th>2016-01-11</th>\n",
              "      <td>47.725410</td>\n",
              "      <td>1923.670044</td>\n",
              "    </tr>\n",
              "    <tr>\n",
              "      <th>2016-01-12</th>\n",
              "      <td>48.163425</td>\n",
              "      <td>1938.680054</td>\n",
              "    </tr>\n",
              "    <tr>\n",
              "      <th>2016-01-13</th>\n",
              "      <td>47.123150</td>\n",
              "      <td>1890.280029</td>\n",
              "    </tr>\n",
              "    <tr>\n",
              "      <th>...</th>\n",
              "      <td>...</td>\n",
              "      <td>...</td>\n",
              "    </tr>\n",
              "    <tr>\n",
              "      <th>2020-12-30</th>\n",
              "      <td>221.679993</td>\n",
              "      <td>3732.040039</td>\n",
              "    </tr>\n",
              "    <tr>\n",
              "      <th>2020-12-31</th>\n",
              "      <td>222.419998</td>\n",
              "      <td>3756.070068</td>\n",
              "    </tr>\n",
              "    <tr>\n",
              "      <th>2021-01-04</th>\n",
              "      <td>217.690002</td>\n",
              "      <td>3700.649902</td>\n",
              "    </tr>\n",
              "    <tr>\n",
              "      <th>2021-01-05</th>\n",
              "      <td>217.899994</td>\n",
              "      <td>3726.860107</td>\n",
              "    </tr>\n",
              "    <tr>\n",
              "      <th>2021-01-06</th>\n",
              "      <td>212.250000</td>\n",
              "      <td>3748.139893</td>\n",
              "    </tr>\n",
              "  </tbody>\n",
              "</table>\n",
              "<p>1259 rows × 2 columns</p>\n",
              "</div>"
            ],
            "text/plain": [
              "Symbols           MSFT        ^GSPC\n",
              "Date                               \n",
              "2016-01-07   47.606789  1943.089966\n",
              "2016-01-08   47.752792  1922.030029\n",
              "2016-01-11   47.725410  1923.670044\n",
              "2016-01-12   48.163425  1938.680054\n",
              "2016-01-13   47.123150  1890.280029\n",
              "...                ...          ...\n",
              "2020-12-30  221.679993  3732.040039\n",
              "2020-12-31  222.419998  3756.070068\n",
              "2021-01-04  217.690002  3700.649902\n",
              "2021-01-05  217.899994  3726.860107\n",
              "2021-01-06  212.250000  3748.139893\n",
              "\n",
              "[1259 rows x 2 columns]"
            ]
          },
          "metadata": {
            "tags": []
          },
          "execution_count": 6
        }
      ]
    },
    {
      "cell_type": "code",
      "metadata": {
        "colab": {
          "base_uri": "https://localhost:8080/",
          "height": 235
        },
        "id": "uVwzLDEBd4Bg",
        "outputId": "bf912956-492a-4722-e857-3c60a2912c3a"
      },
      "source": [
        "mtl_ret = df.resample('M').ffill().pct_change() # altera os dados de diário para mensal mudando pra primeira diff\r\n",
        "mtl_ret = mtl_ret.dropna(axis=0) # retira o primeiro dado nulo\r\n",
        "mtl_ret.tail()"
      ],
      "execution_count": 7,
      "outputs": [
        {
          "output_type": "execute_result",
          "data": {
            "text/html": [
              "<div>\n",
              "<style scoped>\n",
              "    .dataframe tbody tr th:only-of-type {\n",
              "        vertical-align: middle;\n",
              "    }\n",
              "\n",
              "    .dataframe tbody tr th {\n",
              "        vertical-align: top;\n",
              "    }\n",
              "\n",
              "    .dataframe thead th {\n",
              "        text-align: right;\n",
              "    }\n",
              "</style>\n",
              "<table border=\"1\" class=\"dataframe\">\n",
              "  <thead>\n",
              "    <tr style=\"text-align: right;\">\n",
              "      <th>Symbols</th>\n",
              "      <th>MSFT</th>\n",
              "      <th>^GSPC</th>\n",
              "    </tr>\n",
              "    <tr>\n",
              "      <th>Date</th>\n",
              "      <th></th>\n",
              "      <th></th>\n",
              "    </tr>\n",
              "  </thead>\n",
              "  <tbody>\n",
              "    <tr>\n",
              "      <th>2020-09-30</th>\n",
              "      <td>-0.067397</td>\n",
              "      <td>-0.039228</td>\n",
              "    </tr>\n",
              "    <tr>\n",
              "      <th>2020-10-31</th>\n",
              "      <td>-0.037370</td>\n",
              "      <td>-0.027666</td>\n",
              "    </tr>\n",
              "    <tr>\n",
              "      <th>2020-11-30</th>\n",
              "      <td>0.060060</td>\n",
              "      <td>0.107546</td>\n",
              "    </tr>\n",
              "    <tr>\n",
              "      <th>2020-12-31</th>\n",
              "      <td>0.039006</td>\n",
              "      <td>0.037121</td>\n",
              "    </tr>\n",
              "    <tr>\n",
              "      <th>2021-01-31</th>\n",
              "      <td>-0.045724</td>\n",
              "      <td>-0.002111</td>\n",
              "    </tr>\n",
              "  </tbody>\n",
              "</table>\n",
              "</div>"
            ],
            "text/plain": [
              "Symbols         MSFT     ^GSPC\n",
              "Date                          \n",
              "2020-09-30 -0.067397 -0.039228\n",
              "2020-10-31 -0.037370 -0.027666\n",
              "2020-11-30  0.060060  0.107546\n",
              "2020-12-31  0.039006  0.037121\n",
              "2021-01-31 -0.045724 -0.002111"
            ]
          },
          "metadata": {
            "tags": []
          },
          "execution_count": 7
        }
      ]
    },
    {
      "cell_type": "code",
      "metadata": {
        "colab": {
          "base_uri": "https://localhost:8080/"
        },
        "id": "be44zHwSaqDL",
        "outputId": "93917f80-e8b7-411e-f6ef-7c45f7b031cd"
      },
      "source": [
        "len(mtl_ret)"
      ],
      "execution_count": 8,
      "outputs": [
        {
          "output_type": "execute_result",
          "data": {
            "text/plain": [
              "60"
            ]
          },
          "metadata": {
            "tags": []
          },
          "execution_count": 8
        }
      ]
    },
    {
      "cell_type": "markdown",
      "metadata": {
        "id": "5tfwLwpq0z18"
      },
      "source": [
        "# Definindo o Beta"
      ]
    },
    {
      "cell_type": "code",
      "metadata": {
        "id": "Qf7MonWFJLgJ"
      },
      "source": [
        "X = mtl_ret['^GSPC'] # Ibovespa\r\n",
        "y = mtl_ret['MSFT'] # Ação objetivo\r\n",
        "\r\n",
        "X_sm = sm.add_constant(X) # adciona o alfa (beta zero)"
      ],
      "execution_count": 9,
      "outputs": []
    },
    {
      "cell_type": "code",
      "metadata": {
        "id": "1BIxXzdIJOLd"
      },
      "source": [
        "model = sm.OLS(y, X_sm)"
      ],
      "execution_count": 10,
      "outputs": []
    },
    {
      "cell_type": "code",
      "metadata": {
        "id": "BFj_y2C51W0O"
      },
      "source": [
        "results = model.fit()"
      ],
      "execution_count": 11,
      "outputs": []
    },
    {
      "cell_type": "code",
      "metadata": {
        "colab": {
          "base_uri": "https://localhost:8080/",
          "height": 444
        },
        "id": "vhjcbydQ1aga",
        "outputId": "8d4fe1d1-1a3a-40c1-b071-d8f74d6b14f9"
      },
      "source": [
        "results.summary()"
      ],
      "execution_count": 12,
      "outputs": [
        {
          "output_type": "execute_result",
          "data": {
            "text/html": [
              "<table class=\"simpletable\">\n",
              "<caption>OLS Regression Results</caption>\n",
              "<tr>\n",
              "  <th>Dep. Variable:</th>          <td>MSFT</td>       <th>  R-squared:         </th> <td>   0.470</td>\n",
              "</tr>\n",
              "<tr>\n",
              "  <th>Model:</th>                   <td>OLS</td>       <th>  Adj. R-squared:    </th> <td>   0.460</td>\n",
              "</tr>\n",
              "<tr>\n",
              "  <th>Method:</th>             <td>Least Squares</td>  <th>  F-statistic:       </th> <td>   51.34</td>\n",
              "</tr>\n",
              "<tr>\n",
              "  <th>Date:</th>             <td>Thu, 07 Jan 2021</td> <th>  Prob (F-statistic):</th> <td>1.55e-09</td>\n",
              "</tr>\n",
              "<tr>\n",
              "  <th>Time:</th>                 <td>13:00:30</td>     <th>  Log-Likelihood:    </th> <td>  110.14</td>\n",
              "</tr>\n",
              "<tr>\n",
              "  <th>No. Observations:</th>      <td>    60</td>      <th>  AIC:               </th> <td>  -216.3</td>\n",
              "</tr>\n",
              "<tr>\n",
              "  <th>Df Residuals:</th>          <td>    58</td>      <th>  BIC:               </th> <td>  -212.1</td>\n",
              "</tr>\n",
              "<tr>\n",
              "  <th>Df Model:</th>              <td>     1</td>      <th>                     </th>     <td> </td>   \n",
              "</tr>\n",
              "<tr>\n",
              "  <th>Covariance Type:</th>      <td>nonrobust</td>    <th>                     </th>     <td> </td>   \n",
              "</tr>\n",
              "</table>\n",
              "<table class=\"simpletable\">\n",
              "<tr>\n",
              "    <td></td>       <th>coef</th>     <th>std err</th>      <th>t</th>      <th>P>|t|</th>  <th>[0.025</th>    <th>0.975]</th>  \n",
              "</tr>\n",
              "<tr>\n",
              "  <th>const</th> <td>    0.0156</td> <td>    0.005</td> <td>    2.957</td> <td> 0.004</td> <td>    0.005</td> <td>    0.026</td>\n",
              "</tr>\n",
              "<tr>\n",
              "  <th>^GSPC</th> <td>    0.8460</td> <td>    0.118</td> <td>    7.165</td> <td> 0.000</td> <td>    0.610</td> <td>    1.082</td>\n",
              "</tr>\n",
              "</table>\n",
              "<table class=\"simpletable\">\n",
              "<tr>\n",
              "  <th>Omnibus:</th>       <td> 1.551</td> <th>  Durbin-Watson:     </th> <td>   2.467</td>\n",
              "</tr>\n",
              "<tr>\n",
              "  <th>Prob(Omnibus):</th> <td> 0.460</td> <th>  Jarque-Bera (JB):  </th> <td>   0.876</td>\n",
              "</tr>\n",
              "<tr>\n",
              "  <th>Skew:</th>          <td>-0.246</td> <th>  Prob(JB):          </th> <td>   0.645</td>\n",
              "</tr>\n",
              "<tr>\n",
              "  <th>Kurtosis:</th>      <td> 3.329</td> <th>  Cond. No.          </th> <td>    23.3</td>\n",
              "</tr>\n",
              "</table><br/><br/>Warnings:<br/>[1] Standard Errors assume that the covariance matrix of the errors is correctly specified."
            ],
            "text/plain": [
              "<class 'statsmodels.iolib.summary.Summary'>\n",
              "\"\"\"\n",
              "                            OLS Regression Results                            \n",
              "==============================================================================\n",
              "Dep. Variable:                   MSFT   R-squared:                       0.470\n",
              "Model:                            OLS   Adj. R-squared:                  0.460\n",
              "Method:                 Least Squares   F-statistic:                     51.34\n",
              "Date:                Thu, 07 Jan 2021   Prob (F-statistic):           1.55e-09\n",
              "Time:                        13:00:30   Log-Likelihood:                 110.14\n",
              "No. Observations:                  60   AIC:                            -216.3\n",
              "Df Residuals:                      58   BIC:                            -212.1\n",
              "Df Model:                           1                                         \n",
              "Covariance Type:            nonrobust                                         \n",
              "==============================================================================\n",
              "                 coef    std err          t      P>|t|      [0.025      0.975]\n",
              "------------------------------------------------------------------------------\n",
              "const          0.0156      0.005      2.957      0.004       0.005       0.026\n",
              "^GSPC          0.8460      0.118      7.165      0.000       0.610       1.082\n",
              "==============================================================================\n",
              "Omnibus:                        1.551   Durbin-Watson:                   2.467\n",
              "Prob(Omnibus):                  0.460   Jarque-Bera (JB):                0.876\n",
              "Skew:                          -0.246   Prob(JB):                        0.645\n",
              "Kurtosis:                       3.329   Cond. No.                         23.3\n",
              "==============================================================================\n",
              "\n",
              "Warnings:\n",
              "[1] Standard Errors assume that the covariance matrix of the errors is correctly specified.\n",
              "\"\"\""
            ]
          },
          "metadata": {
            "tags": []
          },
          "execution_count": 12
        }
      ]
    },
    {
      "cell_type": "markdown",
      "metadata": {
        "id": "yjESWjGWI8c-"
      },
      "source": [
        "# Visualizando"
      ]
    },
    {
      "cell_type": "code",
      "metadata": {
        "id": "cKVLKHMt1cFc"
      },
      "source": [
        "import seaborn as sns"
      ],
      "execution_count": 13,
      "outputs": []
    },
    {
      "cell_type": "code",
      "metadata": {
        "colab": {
          "base_uri": "https://localhost:8080/",
          "height": 279
        },
        "id": "PkWG6eL7JAyq",
        "outputId": "5929df7d-50cf-4322-8a7a-6bc29a78d4ca"
      },
      "source": [
        "sns.regplot(x='^GSPC', y='MSFT', data=mtl_ret) # o f(x=0) é o alfa\r\n",
        "plt.show() # f(x=0,1) = 0,083"
      ],
      "execution_count": 14,
      "outputs": [
        {
          "output_type": "display_data",
          "data": {
            "image/png": "[encoded data removed]",
            "text/plain": [
              "<Figure size 432x288 with 1 Axes>"
            ]
          },
          "metadata": {
            "tags": [],
            "needs_background": "light"
          }
        }
      ]
    },
    {
      "cell_type": "markdown",
      "metadata": {
        "id": "5LWyxCY3KNa8"
      },
      "source": [
        "# Adcionando a taxa livre de risco (rf)"
      ]
    },
    {
      "cell_type": "markdown",
      "metadata": {
        "id": "TXxQcvMc65QK"
      },
      "source": [
        "![capm_formula_1.png](data:image/png;base64,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)"
      ]
    },
    {
      "cell_type": "code",
      "metadata": {
        "id": "MXCv057fJKK0"
      },
      "source": [
        "url = 'http://mba.tuck.dartmouth.edu/pages/faculty/ken.french/data_library.html#Benchmarks'\r\n",
        "# site com todas as taxas livres de risco"
      ],
      "execution_count": 15,
      "outputs": []
    },
    {
      "cell_type": "code",
      "metadata": {
        "id": "Fa72IHC3QOak"
      },
      "source": [
        "rf = reader.DataReader('F-F_Research_Data_Factors','famafrench',start,end)[0].RF"
      ],
      "execution_count": 16,
      "outputs": []
    },
    {
      "cell_type": "code",
      "metadata": {
        "id": "Bx1YttZVRZvb",
        "colab": {
          "base_uri": "https://localhost:8080/"
        },
        "outputId": "463f348c-c347-4515-e30b-bee81d3bcfc0"
      },
      "source": [
        "rf = rf[1:] # neste caso, importei a dos EUA mas tem a brasileira também\r\n",
        "rf # os dados dessa base vão até somente outubro"
      ],
      "execution_count": 17,
      "outputs": [
        {
          "output_type": "execute_result",
          "data": {
            "text/plain": [
              "Date\n",
              "2016-02    0.02\n",
              "2016-03    0.02\n",
              "2016-04    0.01\n",
              "2016-05    0.01\n",
              "2016-06    0.02\n",
              "2016-07    0.02\n",
              "2016-08    0.02\n",
              "2016-09    0.02\n",
              "2016-10    0.02\n",
              "2016-11    0.01\n",
              "2016-12    0.03\n",
              "2017-01    0.04\n",
              "2017-02    0.04\n",
              "2017-03    0.03\n",
              "2017-04    0.05\n",
              "2017-05    0.06\n",
              "2017-06    0.06\n",
              "2017-07    0.07\n",
              "2017-08    0.09\n",
              "2017-09    0.09\n",
              "2017-10    0.09\n",
              "2017-11    0.08\n",
              "2017-12    0.09\n",
              "2018-01    0.11\n",
              "2018-02    0.11\n",
              "2018-03    0.12\n",
              "2018-04    0.14\n",
              "2018-05    0.14\n",
              "2018-06    0.14\n",
              "2018-07    0.16\n",
              "2018-08    0.16\n",
              "2018-09    0.15\n",
              "2018-10    0.19\n",
              "2018-11    0.18\n",
              "2018-12    0.19\n",
              "2019-01    0.21\n",
              "2019-02    0.18\n",
              "2019-03    0.19\n",
              "2019-04    0.21\n",
              "2019-05    0.21\n",
              "2019-06    0.18\n",
              "2019-07    0.19\n",
              "2019-08    0.16\n",
              "2019-09    0.18\n",
              "2019-10    0.15\n",
              "2019-11    0.12\n",
              "2019-12    0.14\n",
              "2020-01    0.13\n",
              "2020-02    0.12\n",
              "2020-03    0.12\n",
              "2020-04    0.00\n",
              "2020-05    0.01\n",
              "2020-06    0.01\n",
              "2020-07    0.01\n",
              "2020-08    0.01\n",
              "2020-09    0.01\n",
              "2020-10    0.01\n",
              "Freq: M, Name: RF, dtype: float64"
            ]
          },
          "metadata": {
            "tags": []
          },
          "execution_count": 17
        }
      ]
    },
    {
      "cell_type": "code",
      "metadata": {
        "id": "kMwqNEPsbanm",
        "colab": {
          "base_uri": "https://localhost:8080/"
        },
        "outputId": "0fc9f83f-bbac-4c09-f2c5-b092876272a3"
      },
      "source": [
        "# As bases possuem tamanhos diferentes\r\n",
        "print(len(mtl_ret))\r\n",
        "print(len(rf))"
      ],
      "execution_count": 18,
      "outputs": [
        {
          "output_type": "stream",
          "text": [
            "60\n",
            "57\n"
          ],
          "name": "stdout"
        }
      ]
    },
    {
      "cell_type": "code",
      "metadata": {
        "id": "kwdP9Vik8UAk",
        "colab": {
          "base_uri": "https://localhost:8080/",
          "height": 235
        },
        "outputId": "f993a3b8-901f-438b-ccd2-aa494b41b3f3"
      },
      "source": [
        "mtl_ret.tail() # parece que rf vai até outubro e mtl_ret vai até dezembro de 2020"
      ],
      "execution_count": 19,
      "outputs": [
        {
          "output_type": "execute_result",
          "data": {
            "text/html": [
              "<div>\n",
              "<style scoped>\n",
              "    .dataframe tbody tr th:only-of-type {\n",
              "        vertical-align: middle;\n",
              "    }\n",
              "\n",
              "    .dataframe tbody tr th {\n",
              "        vertical-align: top;\n",
              "    }\n",
              "\n",
              "    .dataframe thead th {\n",
              "        text-align: right;\n",
              "    }\n",
              "</style>\n",
              "<table border=\"1\" class=\"dataframe\">\n",
              "  <thead>\n",
              "    <tr style=\"text-align: right;\">\n",
              "      <th>Symbols</th>\n",
              "      <th>MSFT</th>\n",
              "      <th>^GSPC</th>\n",
              "    </tr>\n",
              "    <tr>\n",
              "      <th>Date</th>\n",
              "      <th></th>\n",
              "      <th></th>\n",
              "    </tr>\n",
              "  </thead>\n",
              "  <tbody>\n",
              "    <tr>\n",
              "      <th>2020-09-30</th>\n",
              "      <td>-0.067397</td>\n",
              "      <td>-0.039228</td>\n",
              "    </tr>\n",
              "    <tr>\n",
              "      <th>2020-10-31</th>\n",
              "      <td>-0.037370</td>\n",
              "      <td>-0.027666</td>\n",
              "    </tr>\n",
              "    <tr>\n",
              "      <th>2020-11-30</th>\n",
              "      <td>0.060060</td>\n",
              "      <td>0.107546</td>\n",
              "    </tr>\n",
              "    <tr>\n",
              "      <th>2020-12-31</th>\n",
              "      <td>0.039006</td>\n",
              "      <td>0.037121</td>\n",
              "    </tr>\n",
              "    <tr>\n",
              "      <th>2021-01-31</th>\n",
              "      <td>-0.045724</td>\n",
              "      <td>-0.002111</td>\n",
              "    </tr>\n",
              "  </tbody>\n",
              "</table>\n",
              "</div>"
            ],
            "text/plain": [
              "Symbols         MSFT     ^GSPC\n",
              "Date                          \n",
              "2020-09-30 -0.067397 -0.039228\n",
              "2020-10-31 -0.037370 -0.027666\n",
              "2020-11-30  0.060060  0.107546\n",
              "2020-12-31  0.039006  0.037121\n",
              "2021-01-31 -0.045724 -0.002111"
            ]
          },
          "metadata": {
            "tags": []
          },
          "execution_count": 19
        }
      ]
    },
    {
      "cell_type": "code",
      "metadata": {
        "id": "hRX_osDwRcK4"
      },
      "source": [
        "mtl_ret['MSFT-rf'], mtl_ret['^GSPC-rf'] = mtl_ret['MSFT'][:57] - rf.values, mtl_ret['^GSPC'][:57] - rf.values"
      ],
      "execution_count": 20,
      "outputs": []
    },
    {
      "cell_type": "code",
      "metadata": {
        "id": "ENJAkva-S1Yv",
        "colab": {
          "base_uri": "https://localhost:8080/",
          "height": 235
        },
        "outputId": "f0578f85-7c7a-4a38-d9ee-f3752afb7d6f"
      },
      "source": [
        "mtl_ret.tail() # consegui arrumar, mas ficou com uns NaN"
      ],
      "execution_count": 21,
      "outputs": [
        {
          "output_type": "execute_result",
          "data": {
            "text/html": [
              "<div>\n",
              "<style scoped>\n",
              "    .dataframe tbody tr th:only-of-type {\n",
              "        vertical-align: middle;\n",
              "    }\n",
              "\n",
              "    .dataframe tbody tr th {\n",
              "        vertical-align: top;\n",
              "    }\n",
              "\n",
              "    .dataframe thead th {\n",
              "        text-align: right;\n",
              "    }\n",
              "</style>\n",
              "<table border=\"1\" class=\"dataframe\">\n",
              "  <thead>\n",
              "    <tr style=\"text-align: right;\">\n",
              "      <th>Symbols</th>\n",
              "      <th>MSFT</th>\n",
              "      <th>^GSPC</th>\n",
              "      <th>MSFT-rf</th>\n",
              "      <th>^GSPC-rf</th>\n",
              "    </tr>\n",
              "    <tr>\n",
              "      <th>Date</th>\n",
              "      <th></th>\n",
              "      <th></th>\n",
              "      <th></th>\n",
              "      <th></th>\n",
              "    </tr>\n",
              "  </thead>\n",
              "  <tbody>\n",
              "    <tr>\n",
              "      <th>2020-09-30</th>\n",
              "      <td>-0.067397</td>\n",
              "      <td>-0.039228</td>\n",
              "      <td>-0.077397</td>\n",
              "      <td>-0.049228</td>\n",
              "    </tr>\n",
              "    <tr>\n",
              "      <th>2020-10-31</th>\n",
              "      <td>-0.037370</td>\n",
              "      <td>-0.027666</td>\n",
              "      <td>-0.047370</td>\n",
              "      <td>-0.037666</td>\n",
              "    </tr>\n",
              "    <tr>\n",
              "      <th>2020-11-30</th>\n",
              "      <td>0.060060</td>\n",
              "      <td>0.107546</td>\n",
              "      <td>NaN</td>\n",
              "      <td>NaN</td>\n",
              "    </tr>\n",
              "    <tr>\n",
              "      <th>2020-12-31</th>\n",
              "      <td>0.039006</td>\n",
              "      <td>0.037121</td>\n",
              "      <td>NaN</td>\n",
              "      <td>NaN</td>\n",
              "    </tr>\n",
              "    <tr>\n",
              "      <th>2021-01-31</th>\n",
              "      <td>-0.045724</td>\n",
              "      <td>-0.002111</td>\n",
              "      <td>NaN</td>\n",
              "      <td>NaN</td>\n",
              "    </tr>\n",
              "  </tbody>\n",
              "</table>\n",
              "</div>"
            ],
            "text/plain": [
              "Symbols         MSFT     ^GSPC   MSFT-rf  ^GSPC-rf\n",
              "Date                                              \n",
              "2020-09-30 -0.067397 -0.039228 -0.077397 -0.049228\n",
              "2020-10-31 -0.037370 -0.027666 -0.047370 -0.037666\n",
              "2020-11-30  0.060060  0.107546       NaN       NaN\n",
              "2020-12-31  0.039006  0.037121       NaN       NaN\n",
              "2021-01-31 -0.045724 -0.002111       NaN       NaN"
            ]
          },
          "metadata": {
            "tags": []
          },
          "execution_count": 21
        }
      ]
    },
    {
      "cell_type": "code",
      "metadata": {
        "id": "X15OSTEHEBUV"
      },
      "source": [
        "mtl_ret = mtl_ret.dropna(axis=0) # retirando eles"
      ],
      "execution_count": 22,
      "outputs": []
    },
    {
      "cell_type": "code",
      "metadata": {
        "id": "cE3ENvknEtU1",
        "colab": {
          "base_uri": "https://localhost:8080/",
          "height": 235
        },
        "outputId": "092b5826-b64d-4dee-8879-887e1299bf18"
      },
      "source": [
        "mtl_ret.tail() # verificando"
      ],
      "execution_count": 23,
      "outputs": [
        {
          "output_type": "execute_result",
          "data": {
            "text/html": [
              "<div>\n",
              "<style scoped>\n",
              "    .dataframe tbody tr th:only-of-type {\n",
              "        vertical-align: middle;\n",
              "    }\n",
              "\n",
              "    .dataframe tbody tr th {\n",
              "        vertical-align: top;\n",
              "    }\n",
              "\n",
              "    .dataframe thead th {\n",
              "        text-align: right;\n",
              "    }\n",
              "</style>\n",
              "<table border=\"1\" class=\"dataframe\">\n",
              "  <thead>\n",
              "    <tr style=\"text-align: right;\">\n",
              "      <th>Symbols</th>\n",
              "      <th>MSFT</th>\n",
              "      <th>^GSPC</th>\n",
              "      <th>MSFT-rf</th>\n",
              "      <th>^GSPC-rf</th>\n",
              "    </tr>\n",
              "    <tr>\n",
              "      <th>Date</th>\n",
              "      <th></th>\n",
              "      <th></th>\n",
              "      <th></th>\n",
              "      <th></th>\n",
              "    </tr>\n",
              "  </thead>\n",
              "  <tbody>\n",
              "    <tr>\n",
              "      <th>2020-06-30</th>\n",
              "      <td>0.110559</td>\n",
              "      <td>0.018388</td>\n",
              "      <td>0.100559</td>\n",
              "      <td>0.008388</td>\n",
              "    </tr>\n",
              "    <tr>\n",
              "      <th>2020-07-31</th>\n",
              "      <td>0.007371</td>\n",
              "      <td>0.055101</td>\n",
              "      <td>-0.002629</td>\n",
              "      <td>0.045101</td>\n",
              "    </tr>\n",
              "    <tr>\n",
              "      <th>2020-08-31</th>\n",
              "      <td>0.102752</td>\n",
              "      <td>0.070065</td>\n",
              "      <td>0.092752</td>\n",
              "      <td>0.060065</td>\n",
              "    </tr>\n",
              "    <tr>\n",
              "      <th>2020-09-30</th>\n",
              "      <td>-0.067397</td>\n",
              "      <td>-0.039228</td>\n",
              "      <td>-0.077397</td>\n",
              "      <td>-0.049228</td>\n",
              "    </tr>\n",
              "    <tr>\n",
              "      <th>2020-10-31</th>\n",
              "      <td>-0.037370</td>\n",
              "      <td>-0.027666</td>\n",
              "      <td>-0.047370</td>\n",
              "      <td>-0.037666</td>\n",
              "    </tr>\n",
              "  </tbody>\n",
              "</table>\n",
              "</div>"
            ],
            "text/plain": [
              "Symbols         MSFT     ^GSPC   MSFT-rf  ^GSPC-rf\n",
              "Date                                              \n",
              "2020-06-30  0.110559  0.018388  0.100559  0.008388\n",
              "2020-07-31  0.007371  0.055101 -0.002629  0.045101\n",
              "2020-08-31  0.102752  0.070065  0.092752  0.060065\n",
              "2020-09-30 -0.067397 -0.039228 -0.077397 -0.049228\n",
              "2020-10-31 -0.037370 -0.027666 -0.047370 -0.037666"
            ]
          },
          "metadata": {
            "tags": []
          },
          "execution_count": 23
        }
      ]
    },
    {
      "cell_type": "code",
      "metadata": {
        "id": "JUM7bsstEur9"
      },
      "source": [
        "X = mtl_ret['^GSPC-rf']\r\n",
        "y = mtl_ret['MSFT-rf']"
      ],
      "execution_count": 24,
      "outputs": []
    },
    {
      "cell_type": "code",
      "metadata": {
        "id": "L2IxOxh5FYvk"
      },
      "source": [
        "X_sm = sm.add_constant(X)"
      ],
      "execution_count": 25,
      "outputs": []
    },
    {
      "cell_type": "code",
      "metadata": {
        "id": "G1yR9bqtFcXe"
      },
      "source": [
        "model = sm.OLS(y,X_sm)"
      ],
      "execution_count": 26,
      "outputs": []
    },
    {
      "cell_type": "code",
      "metadata": {
        "id": "YKYVmR_xFgHL"
      },
      "source": [
        "results = model.fit()"
      ],
      "execution_count": 27,
      "outputs": []
    },
    {
      "cell_type": "code",
      "metadata": {
        "id": "OSuPVGQaFhyZ",
        "colab": {
          "base_uri": "https://localhost:8080/",
          "height": 444
        },
        "outputId": "d5800963-64db-41a9-d105-e6079e063ab0"
      },
      "source": [
        "results.summary() # A Microsoft aparenta uma taxa de risco relativamente alta em relação ao mercado\r\n",
        "                  # (indicada pelo coef[^GSPC-rf]\t= 0.9055]) e não aparenta vencer a taxa livre de\r\n",
        "                  # risco do mercado mantendo-se todo o mais constante (indicado pelo p|t|[const] > 0.05)"
      ],
      "execution_count": 34,
      "outputs": [
        {
          "output_type": "execute_result",
          "data": {
            "text/html": [
              "<table class=\"simpletable\">\n",
              "<caption>OLS Regression Results</caption>\n",
              "<tr>\n",
              "  <th>Dep. Variable:</th>         <td>MSFT-rf</td>     <th>  R-squared:         </th> <td>   0.814</td>\n",
              "</tr>\n",
              "<tr>\n",
              "  <th>Model:</th>                   <td>OLS</td>       <th>  Adj. R-squared:    </th> <td>   0.811</td>\n",
              "</tr>\n",
              "<tr>\n",
              "  <th>Method:</th>             <td>Least Squares</td>  <th>  F-statistic:       </th> <td>   240.8</td>\n",
              "</tr>\n",
              "<tr>\n",
              "  <th>Date:</th>             <td>Thu, 07 Jan 2021</td> <th>  Prob (F-statistic):</th> <td>9.51e-22</td>\n",
              "</tr>\n",
              "<tr>\n",
              "  <th>Time:</th>                 <td>13:04:55</td>     <th>  Log-Likelihood:    </th> <td>  106.09</td>\n",
              "</tr>\n",
              "<tr>\n",
              "  <th>No. Observations:</th>      <td>    57</td>      <th>  AIC:               </th> <td>  -208.2</td>\n",
              "</tr>\n",
              "<tr>\n",
              "  <th>Df Residuals:</th>          <td>    55</td>      <th>  BIC:               </th> <td>  -204.1</td>\n",
              "</tr>\n",
              "<tr>\n",
              "  <th>Df Model:</th>              <td>     1</td>      <th>                     </th>     <td> </td>   \n",
              "</tr>\n",
              "<tr>\n",
              "  <th>Covariance Type:</th>      <td>nonrobust</td>    <th>                     </th>     <td> </td>   \n",
              "</tr>\n",
              "</table>\n",
              "<table class=\"simpletable\">\n",
              "<tr>\n",
              "      <td></td>        <th>coef</th>     <th>std err</th>      <th>t</th>      <th>P>|t|</th>  <th>[0.025</th>    <th>0.975]</th>  \n",
              "</tr>\n",
              "<tr>\n",
              "  <th>const</th>    <td>    0.0081</td> <td>    0.007</td> <td>    1.155</td> <td> 0.253</td> <td>   -0.006</td> <td>    0.022</td>\n",
              "</tr>\n",
              "<tr>\n",
              "  <th>^GSPC-rf</th> <td>    0.9055</td> <td>    0.058</td> <td>   15.519</td> <td> 0.000</td> <td>    0.789</td> <td>    1.022</td>\n",
              "</tr>\n",
              "</table>\n",
              "<table class=\"simpletable\">\n",
              "<tr>\n",
              "  <th>Omnibus:</th>       <td> 1.236</td> <th>  Durbin-Watson:     </th> <td>   2.640</td>\n",
              "</tr>\n",
              "<tr>\n",
              "  <th>Prob(Omnibus):</th> <td> 0.539</td> <th>  Jarque-Bera (JB):  </th> <td>   0.556</td>\n",
              "</tr>\n",
              "<tr>\n",
              "  <th>Skew:</th>          <td>-0.122</td> <th>  Prob(JB):          </th> <td>   0.757</td>\n",
              "</tr>\n",
              "<tr>\n",
              "  <th>Kurtosis:</th>      <td> 3.418</td> <th>  Cond. No.          </th> <td>    11.6</td>\n",
              "</tr>\n",
              "</table><br/><br/>Warnings:<br/>[1] Standard Errors assume that the covariance matrix of the errors is correctly specified."
            ],
            "text/plain": [
              "<class 'statsmodels.iolib.summary.Summary'>\n",
              "\"\"\"\n",
              "                            OLS Regression Results                            \n",
              "==============================================================================\n",
              "Dep. Variable:                MSFT-rf   R-squared:                       0.814\n",
              "Model:                            OLS   Adj. R-squared:                  0.811\n",
              "Method:                 Least Squares   F-statistic:                     240.8\n",
              "Date:                Thu, 07 Jan 2021   Prob (F-statistic):           9.51e-22\n",
              "Time:                        13:04:55   Log-Likelihood:                 106.09\n",
              "No. Observations:                  57   AIC:                            -208.2\n",
              "Df Residuals:                      55   BIC:                            -204.1\n",
              "Df Model:                           1                                         \n",
              "Covariance Type:            nonrobust                                         \n",
              "==============================================================================\n",
              "                 coef    std err          t      P>|t|      [0.025      0.975]\n",
              "------------------------------------------------------------------------------\n",
              "const          0.0081      0.007      1.155      0.253      -0.006       0.022\n",
              "^GSPC-rf       0.9055      0.058     15.519      0.000       0.789       1.022\n",
              "==============================================================================\n",
              "Omnibus:                        1.236   Durbin-Watson:                   2.640\n",
              "Prob(Omnibus):                  0.539   Jarque-Bera (JB):                0.556\n",
              "Skew:                          -0.122   Prob(JB):                        0.757\n",
              "Kurtosis:                       3.418   Cond. No.                         11.6\n",
              "==============================================================================\n",
              "\n",
              "Warnings:\n",
              "[1] Standard Errors assume that the covariance matrix of the errors is correctly specified.\n",
              "\"\"\""
            ]
          },
          "metadata": {
            "tags": []
          },
          "execution_count": 34
        }
      ]
    },
    {
      "cell_type": "code",
      "metadata": {
        "id": "v-IbIOzVFjme",
        "colab": {
          "base_uri": "https://localhost:8080/",
          "height": 279
        },
        "outputId": "ee7028b0-b011-441f-ec36-103dd7b8352d"
      },
      "source": [
        "sns.regplot(x='^GSPC-rf',y='MSFT-rf', data=mtl_ret) # visualização grafica\r\n",
        "plt.show()"
      ],
      "execution_count": 35,
      "outputs": [
        {
          "output_type": "display_data",
          "data": {
            "image/png": "[encoded data removed]",
            "text/plain": [
              "<Figure size 432x288 with 1 Axes>"
            ]
          },
          "metadata": {
            "tags": [],
            "needs_background": "light"
          }
        }
      ]
    },
    {
      "cell_type": "code",
      "metadata": {
        "id": "OpnFU4CgE_f0"
      },
      "source": [
        ""
      ],
      "execution_count": 33,
      "outputs": []
    }
  ]
}